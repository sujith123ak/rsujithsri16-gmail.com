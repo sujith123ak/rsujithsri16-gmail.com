{
 "cells": [
  {
   "cell_type": "code",
   "execution_count": 1,
   "id": "7e1208e5-0850-44a1-b80e-6a4d338bc98c",
   "metadata": {},
   "outputs": [],
   "source": [
    "# Create the list 'myList'\n",
    "myList = [10, 20, 30, 'apple', True, 8.10]"
   ]
  },
  {
   "cell_type": "code",
   "execution_count": 2,
   "id": "de214ba8-03f6-405e-b293-62f8b26a4a02",
   "metadata": {},
   "outputs": [],
   "source": [
    "# a. Append these values: 30, 40\n",
    "myList.append(30)\n",
    "myList.append(40)"
   ]
  },
  {
   "cell_type": "code",
   "execution_count": 5,
   "id": "ce530515-faa8-4d10-a12c-d881ada77bb5",
   "metadata": {},
   "outputs": [
    {
     "name": "stdout",
     "output_type": "stream",
     "text": [
      "Original List: [1, 2, 3, 4, 5]\n",
      "Reversed List: [5, 4, 3, 2, 1]\n"
     ]
    }
   ],
   "source": [
    "myList = [1, 2, 3, 4, 5]\n",
    "\n",
    "# Reverse the list\n",
    "reversedList = reversed(myList)\n",
    "\n",
    "# Print the original and reversed lists\n",
    "print(\"Original List:\", myList)\n",
    "print(\"Reversed List:\", list(reversedList))"
   ]
  },
  {
   "cell_type": "code",
   "execution_count": 6,
   "id": "197baca0-ed07-4588-8a54-186de4c5049d",
   "metadata": {},
   "outputs": [],
   "source": [
    "# Create the dictionary\n",
    "my_dict = {1: 'data', 2: 'information', 3: 'text'}"
   ]
  },
  {
   "cell_type": "code",
   "execution_count": 7,
   "id": "f1be6171-e81b-4788-9692-39abdaba41a3",
   "metadata": {},
   "outputs": [
    {
     "data": {
      "text/plain": [
       "'text'"
      ]
     },
     "execution_count": 7,
     "metadata": {},
     "output_type": "execute_result"
    }
   ],
   "source": [
    "# a. Eliminate the 'text' value from the dictionary\n",
    "my_dict.pop(3)"
   ]
  },
  {
   "cell_type": "code",
   "execution_count": 8,
   "id": "da5934b7-af30-49cd-8196-85f0d502276d",
   "metadata": {},
   "outputs": [],
   "source": [
    "# b. Add 'features' in the dictionary\n",
    "my_dict[3] = 'features'"
   ]
  },
  {
   "cell_type": "code",
   "execution_count": 9,
   "id": "3f213dcb-b84b-45fb-85ee-608951d29ebe",
   "metadata": {},
   "outputs": [
    {
     "name": "stdout",
     "output_type": "stream",
     "text": [
      "Dictionary: {1: 'data', 2: 'information', 3: 'features'}\n",
      "Fetched value: data\n"
     ]
    }
   ],
   "source": [
    "# c. Fetch the 'data' element and display it\n",
    "data_value = my_dict[1]\n",
    "print(\"Dictionary:\", my_dict)\n",
    "print(\"Fetched value:\", data_value)"
   ]
  },
  {
   "cell_type": "code",
   "execution_count": 10,
   "id": "554f9f9f-1fc9-4587-bdde-78d5e827bf5f",
   "metadata": {},
   "outputs": [
    {
     "name": "stdout",
     "output_type": "stream",
     "text": [
      "Tuple: (1, 2, 3, 'apple', 'mango')\n"
     ]
    }
   ],
   "source": [
    "# Create the tuple 'my_tuple'\n",
    "my_tuple = (1, 2, 3, 'apple', 'mango')\n",
    "print(\"Tuple:\", my_tuple)"
   ]
  },
  {
   "cell_type": "code",
   "execution_count": 11,
   "id": "d6528b8d-fdc5-404d-bc54-7f7cf4a96667",
   "metadata": {},
   "outputs": [],
   "source": [
    "# Create the numeric_tuple\n",
    "numeric_tuple = (10, 20, 30, 40, 50)"
   ]
  },
  {
   "cell_type": "code",
   "execution_count": 12,
   "id": "3d392bc7-324b-4ce9-af8c-3fcfc9fe9c53",
   "metadata": {},
   "outputs": [],
   "source": [
    "# a. Find the minimum value from numeric_tuple\n",
    "min_value = min(numeric_tuple)"
   ]
  },
  {
   "cell_type": "code",
   "execution_count": 13,
   "id": "8b77dbc8-a7ca-49ae-9e48-1d06e9c89a90",
   "metadata": {},
   "outputs": [],
   "source": [
    "# b. Concatenate my_tuple with numeric_tuple and store the result in r1\n",
    "r1 = my_tuple + numeric_tuple"
   ]
  },
  {
   "cell_type": "code",
   "execution_count": 14,
   "id": "9392ea06-e2fa-4e99-9e8e-a90532ed11aa",
   "metadata": {},
   "outputs": [],
   "source": [
    "# c. Duplicate the tuple 'my_tuple' 2 times and store in 'newdupli'\n",
    "newdupli = my_tuple * 2"
   ]
  },
  {
   "cell_type": "code",
   "execution_count": 15,
   "id": "3cb27eea-bbb9-44b1-b18c-4b1eb379ecf7",
   "metadata": {},
   "outputs": [
    {
     "name": "stdout",
     "output_type": "stream",
     "text": [
      "Minimum Value: 10\n",
      "Concatenated Tuple (r1): (1, 2, 3, 'apple', 'mango', 10, 20, 30, 40, 50)\n",
      "Duplicated Tuple (newdupli): (1, 2, 3, 'apple', 'mango', 1, 2, 3, 'apple', 'mango')\n"
     ]
    }
   ],
   "source": [
    "print(\"Minimum Value:\", min_value)\n",
    "print(\"Concatenated Tuple (r1):\", r1)\n",
    "print(\"Duplicated Tuple (newdupli):\", newdupli)"
   ]
  },
  {
   "cell_type": "code",
   "execution_count": 16,
   "id": "a6e21597-9b29-412d-8dfd-7a4282b141e4",
   "metadata": {},
   "outputs": [],
   "source": [
    "# Create two sets set1 and set2\n",
    "set1 = {1, 2, 3, 4, 5}\n",
    "set2 = {2, 3, 7, 6, 1}"
   ]
  },
  {
   "cell_type": "code",
   "execution_count": 17,
   "id": "0facd1a2-6351-43c1-a21c-55716eff4031",
   "metadata": {},
   "outputs": [],
   "source": [
    "# a. Union of set1 and set2\n",
    "union_set = set1.union(set2)"
   ]
  },
  {
   "cell_type": "code",
   "execution_count": 18,
   "id": "bee74f35-8487-4da1-be77-e939aef5e099",
   "metadata": {},
   "outputs": [],
   "source": [
    "# b. Intersection of set1 and set2\n",
    "intersection_set = set1.intersection(set2)"
   ]
  },
  {
   "cell_type": "code",
   "execution_count": 19,
   "id": "7f9b0dc4-aca7-4db9-8d09-8a7ec0a0ff04",
   "metadata": {},
   "outputs": [],
   "source": [
    "# c. Difference of set1 and set2\n",
    "difference_set = set1.difference(set2)"
   ]
  },
  {
   "cell_type": "code",
   "execution_count": 20,
   "id": "888aa5b2-32b9-478b-b813-c006e0d0a8a7",
   "metadata": {},
   "outputs": [
    {
     "name": "stdout",
     "output_type": "stream",
     "text": [
      "Union of set1 and set2: {1, 2, 3, 4, 5, 6, 7}\n",
      "Intersection of set1 and set2: {1, 2, 3}\n",
      "Difference of set1 and set2: {4, 5}\n"
     ]
    }
   ],
   "source": [
    "print(\"Union of set1 and set2:\", union_set)\n",
    "print(\"Intersection of set1 and set2:\", intersection_set)\n",
    "print(\"Difference of set1 and set2:\", difference_set)"
   ]
  },
  {
   "cell_type": "code",
   "execution_count": null,
   "id": "9a6fa5a3-7f4a-49d3-826f-38c7d18cb4a2",
   "metadata": {},
   "outputs": [],
   "source": []
  }
 ],
 "metadata": {
  "kernelspec": {
   "display_name": "Python 3 (ipykernel)",
   "language": "python",
   "name": "python3"
  },
  "language_info": {
   "codemirror_mode": {
    "name": "ipython",
    "version": 3
   },
   "file_extension": ".py",
   "mimetype": "text/x-python",
   "name": "python",
   "nbconvert_exporter": "python",
   "pygments_lexer": "ipython3",
   "version": "3.11.7"
  }
 },
 "nbformat": 4,
 "nbformat_minor": 5
}
