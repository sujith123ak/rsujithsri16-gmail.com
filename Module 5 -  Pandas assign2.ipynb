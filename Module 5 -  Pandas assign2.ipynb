{
 "cells": [
  {
   "cell_type": "code",
   "execution_count": 1,
   "id": "7c764d0c-51a7-48f2-b783-59d633c6531c",
   "metadata": {},
   "outputs": [],
   "source": [
    "import pandas as pd\n",
    "\n",
    "# Load the DataFrame from the CSV file\n",
    "churn = pd.read_csv('customer_churn.csv')"
   ]
  },
  {
   "cell_type": "code",
   "execution_count": 2,
   "id": "a45263be-0b87-4935-be9f-5349ed867ca5",
   "metadata": {},
   "outputs": [],
   "source": [
    "# Select rows from index 20 to 200 (exclusive) and columns from index 2 to 15\n",
    "subset = churn.iloc[20:200, 2:16]"
   ]
  },
  {
   "cell_type": "code",
   "execution_count": 3,
   "id": "1fe6d3f5-4fd5-4c58-b89f-356b5ada7dd5",
   "metadata": {},
   "outputs": [
    {
     "name": "stdout",
     "output_type": "stream",
     "text": [
      "     SeniorCitizen Partner Dependents  tenure PhoneService     MultipleLines  \\\n",
      "20               1      No         No       1           No  No phone service   \n",
      "21               0     Yes         No      12          Yes                No   \n",
      "22               0      No         No       1          Yes                No   \n",
      "23               0     Yes         No      58          Yes               Yes   \n",
      "24               0     Yes        Yes      49          Yes                No   \n",
      "..             ...     ...        ...     ...          ...               ...   \n",
      "195              0     Yes         No      20          Yes                No   \n",
      "196              0     Yes        Yes      24          Yes               Yes   \n",
      "197              0      No         No      59          Yes               Yes   \n",
      "198              0     Yes        Yes      72          Yes               Yes   \n",
      "199              0      No        Yes       1          Yes                No   \n",
      "\n",
      "    InternetService       OnlineSecurity         OnlineBackup  \\\n",
      "20              DSL                   No                   No   \n",
      "21               No  No internet service  No internet service   \n",
      "22               No  No internet service  No internet service   \n",
      "23              DSL                   No                  Yes   \n",
      "24              DSL                  Yes                  Yes   \n",
      "..              ...                  ...                  ...   \n",
      "195     Fiber optic                  Yes                  Yes   \n",
      "196              No  No internet service  No internet service   \n",
      "197     Fiber optic                   No                  Yes   \n",
      "198     Fiber optic                   No                  Yes   \n",
      "199              No  No internet service  No internet service   \n",
      "\n",
      "        DeviceProtection          TechSupport          StreamingTV  \\\n",
      "20                   Yes                   No                   No   \n",
      "21   No internet service  No internet service  No internet service   \n",
      "22   No internet service  No internet service  No internet service   \n",
      "23                    No                  Yes                   No   \n",
      "24                    No                  Yes                   No   \n",
      "..                   ...                  ...                  ...   \n",
      "195                   No                  Yes                  Yes   \n",
      "196  No internet service  No internet service  No internet service   \n",
      "197                  Yes                  Yes                  Yes   \n",
      "198                  Yes                  Yes                  Yes   \n",
      "199  No internet service  No internet service  No internet service   \n",
      "\n",
      "         StreamingMovies        Contract  \n",
      "20                   Yes  Month-to-month  \n",
      "21   No internet service        One year  \n",
      "22   No internet service  Month-to-month  \n",
      "23                    No        Two year  \n",
      "24                    No  Month-to-month  \n",
      "..                   ...             ...  \n",
      "195                   No  Month-to-month  \n",
      "196  No internet service        Two year  \n",
      "197                  Yes  Month-to-month  \n",
      "198                  Yes        Two year  \n",
      "199  No internet service  Month-to-month  \n",
      "\n",
      "[180 rows x 14 columns]\n"
     ]
    }
   ],
   "source": [
    "# Display the subset\n",
    "print(subset)"
   ]
  },
  {
   "cell_type": "code",
   "execution_count": null,
   "id": "63fb7060-b48b-488a-8674-b8e39b726d46",
   "metadata": {},
   "outputs": [],
   "source": []
  }
 ],
 "metadata": {
  "kernelspec": {
   "display_name": "Python 3 (ipykernel)",
   "language": "python",
   "name": "python3"
  },
  "language_info": {
   "codemirror_mode": {
    "name": "ipython",
    "version": 3
   },
   "file_extension": ".py",
   "mimetype": "text/x-python",
   "name": "python",
   "nbconvert_exporter": "python",
   "pygments_lexer": "ipython3",
   "version": "3.11.7"
  }
 },
 "nbformat": 4,
 "nbformat_minor": 5
}
