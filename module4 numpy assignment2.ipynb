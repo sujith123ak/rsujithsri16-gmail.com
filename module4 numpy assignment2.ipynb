{
 "cells": [
  {
   "cell_type": "code",
   "execution_count": 47,
   "id": "47b2c2f1-cc0c-44ca-b16a-c7bfaa286abe",
   "metadata": {},
   "outputs": [
    {
     "name": "stdout",
     "output_type": "stream",
     "text": [
      "3x3 Matrix with values from 2 to 10:\n",
      " [[ 2  3  4]\n",
      " [ 5  6  7]\n",
      " [ 8  9 10]]\n"
     ]
    }
   ],
   "source": [
    "import numpy as np\n",
    "\n",
    "# Create a 3x3 matrix array with values ranging from 2 to 10\n",
    "matrix = np.arange(2, 11).reshape(3, 3)\n",
    "print(\"3x3 Matrix with values from 2 to 10:\\n\", matrix)"
   ]
  },
  {
   "cell_type": "code",
   "execution_count": null,
   "id": "06babed2-e6c9-4e79-a781-6ff162e10478",
   "metadata": {},
   "outputs": [],
   "source": [
    "import numpy as np\n",
    "\n",
    "# Take input from the user\n",
    "user_input = input(\"Enter values separated by spaces: \")"
   ]
  },
  {
   "cell_type": "code",
   "execution_count": null,
   "id": "963f3e63-66cf-4366-92a8-fb067852c182",
   "metadata": {},
   "outputs": [],
   "source": [
    "# Convert input to a list of integers\n",
    "int_array = np.array(user_input.split(), dtype=int)"
   ]
  },
  {
   "cell_type": "code",
   "execution_count": null,
   "id": "61d13e0e-c6bc-4755-85c2-556970889313",
   "metadata": {},
   "outputs": [],
   "source": [
    "# Convert the integer array to float type\n",
    "float_array = int_array.astype(float)\n",
    "print(\"Array converted to float type:\", float_array)\n"
   ]
  },
  {
   "cell_type": "code",
   "execution_count": null,
   "id": "a636e211-1ea4-4486-ae15-7566af48a084",
   "metadata": {},
   "outputs": [],
   "source": [
    "import numpy as np\n",
    "\n",
    "# Original array\n",
    "original_array = np.array([10, 20, 30])"
   ]
  },
  {
   "cell_type": "code",
   "execution_count": null,
   "id": "067d65cb-3f57-4794-94bd-71674acac41d",
   "metadata": {},
   "outputs": [],
   "source": [
    "# Values to append\n",
    "values_to_append = np.array([40, 50, 60, 70, 80, 90])"
   ]
  },
  {
   "cell_type": "code",
   "execution_count": null,
   "id": "9d7390b4-8406-4ce1-9cf0-2e8cf6a6ce10",
   "metadata": {},
   "outputs": [],
   "source": [
    "# Append values to the end of the array\n",
    "new_array = np.append(original_array, values_to_append)\n",
    "print(\"Array after appending values:\", new_array)"
   ]
  },
  {
   "cell_type": "code",
   "execution_count": null,
   "id": "64df9724-59ee-4ce2-9d1a-6f763ee13ac6",
   "metadata": {},
   "outputs": [],
   "source": [
    "import numpy as np\n",
    "\n",
    "# Create two NumPy arrays\n",
    "array1 = np.array([1, 2, 3])\n",
    "array2 = np.array([4, 5, 6])"
   ]
  },
  {
   "cell_type": "code",
   "execution_count": null,
   "id": "e8169ee8-850b-44f6-b789-778701d5ad42",
   "metadata": {},
   "outputs": [],
   "source": [
    "# Add the elements of both arrays\n",
    "sumArray = np.add(array1, array2)\n",
    "print(\"Sum of the two arrays:\", sumArray)"
   ]
  },
  {
   "cell_type": "code",
   "execution_count": null,
   "id": "961e4d22-a998-4a9c-a331-3e395d1403a6",
   "metadata": {},
   "outputs": [],
   "source": [
    "import numpy as np\n",
    "\n",
    "# Create a 3x3 array with values from 10 to 90 (interval of 10)\n",
    "array1 = np.arange(10, 100, 10).reshape(3, 3)\n",
    "print(\"3x3 Array with values from 10 to 90:\\n\", array1)"
   ]
  },
  {
   "cell_type": "code",
   "execution_count": null,
   "id": "5c8898d1-bb13-4642-a5bf-a4e558c8db9d",
   "metadata": {},
   "outputs": [],
   "source": [
    "# a. Extract the 1st row from the array\n",
    "first_row = array1[0, :]\n",
    "print(\"1st row of the array:\", first_row)"
   ]
  },
  {
   "cell_type": "code",
   "execution_count": null,
   "id": "176ec0a5-1e76-4e8f-9ef7-1cf3d4bb5188",
   "metadata": {},
   "outputs": [],
   "source": [
    "# b. Extract the last element from the array\n",
    "last_element = array1[-1, -1]\n",
    "print(\"Last element of the array:\", last_element)"
   ]
  },
  {
   "cell_type": "code",
   "execution_count": null,
   "id": "7e1208e5-0850-44a1-b80e-6a4d338bc98c",
   "metadata": {},
   "outputs": [],
   "source": []
  }
 ],
 "metadata": {
  "kernelspec": {
   "display_name": "Python 3 (ipykernel)",
   "language": "python",
   "name": "python3"
  },
  "language_info": {
   "codemirror_mode": {
    "name": "ipython",
    "version": 3
   },
   "file_extension": ".py",
   "mimetype": "text/x-python",
   "name": "python",
   "nbconvert_exporter": "python",
   "pygments_lexer": "ipython3",
   "version": "3.11.7"
  }
 },
 "nbformat": 4,
 "nbformat_minor": 5
}
