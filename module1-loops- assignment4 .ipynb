{
 "cells": [
  {
   "cell_type": "code",
   "execution_count": 1,
   "id": "aa112356-7272-47a5-80a8-224c9d86097d",
   "metadata": {},
   "outputs": [],
   "source": [
    "# Create the list with the specified values\n",
    "numbers = [10, 23, 4, 26, 4, 75, 24, 54]\n"
   ]
  },
  {
   "cell_type": "code",
   "execution_count": null,
   "id": "f3582098-cef2-4ee4-8fa3-81974e34f932",
   "metadata": {},
   "outputs": [],
   "source": [
    "# Initialize the index to start at 0\n",
    "index = 0"
   ]
  },
  {
   "cell_type": "code",
   "execution_count": null,
   "id": "2298ac84-7cfe-4260-b8ea-611acccafb8b",
   "metadata": {},
   "outputs": [],
   "source": [
    "while index < len(numbers):"
   ]
  },
  {
   "cell_type": "code",
   "execution_count": null,
   "id": "43a4d64e-177c-42a5-99e3-359f4eb0e8dd",
   "metadata": {},
   "outputs": [],
   "source": [
    "# Check if the current number is even\n",
    "    if numbers[index] % 2 == 0:"
   ]
  },
  {
   "cell_type": "code",
   "execution_count": null,
   "id": "e818b535-0514-49c1-8590-247206c228e5",
   "metadata": {},
   "outputs": [],
   "source": [
    "# If it is even, print the number\n",
    "        print(numbers[index])"
   ]
  },
  {
   "cell_type": "code",
   "execution_count": null,
   "id": "d25c39c5-17f0-4a64-81b2-012a6382f6f3",
   "metadata": {},
   "outputs": [],
   "source": [
    " # Increment the index by 1 to move to the next element\n",
    "    index += 1"
   ]
  },
  {
   "cell_type": "code",
   "execution_count": null,
   "id": "ca6c1083-a3a4-44a3-8e97-a18e5272c312",
   "metadata": {},
   "outputs": [],
   "source": []
  }
 ],
 "metadata": {
  "kernelspec": {
   "display_name": "Python 3 (ipykernel)",
   "language": "python",
   "name": "python3"
  },
  "language_info": {
   "codemirror_mode": {
    "name": "ipython",
    "version": 3
   },
   "file_extension": ".py",
   "mimetype": "text/x-python",
   "name": "python",
   "nbconvert_exporter": "python",
   "pygments_lexer": "ipython3",
   "version": "3.11.7"
  }
 },
 "nbformat": 4,
 "nbformat_minor": 5
}
