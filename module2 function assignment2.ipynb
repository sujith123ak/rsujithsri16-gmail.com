{
 "cells": [
  {
   "cell_type": "code",
   "execution_count": 1,
   "id": "6b8278a8-1ab8-44d3-877d-e55af8b1e81f",
   "metadata": {},
   "outputs": [],
   "source": [
    "class Super:\n",
    "    def fun1(self):\n",
    "        print(\"This is function 1 in the Super class.\")"
   ]
  },
  {
   "cell_type": "code",
   "execution_count": 5,
   "id": "4dea4c22-a8fd-4213-84cc-045bdf51596a",
   "metadata": {},
   "outputs": [],
   "source": [
    "class Modified_Super(Super):\n",
    "    def fun1(self):\n",
    "        print(\"This is function 1 in the Modified Super class.\")"
   ]
  },
  {
   "cell_type": "code",
   "execution_count": 6,
   "id": "13df109e-15e2-4e7f-ad05-e38ffc57b79c",
   "metadata": {},
   "outputs": [],
   "source": [
    "def fun2(self):\n",
    "        print(\"This is the 2nd function from the Modified Super class.\")"
   ]
  },
  {
   "cell_type": "code",
   "execution_count": 14,
   "id": "c5d1ac53-b06f-44f1-9bcf-7a8598815865",
   "metadata": {},
   "outputs": [],
   "source": [
    "class Example:\n",
    "    def Hello(self, arg1=None, arg2=None):\n",
    "        if arg1 is not None and arg2 is not None:\n",
    "            print(\"This function is having 2 arguments\")\n",
    "        elif arg1 is not None:\n",
    "            print(\"This function is only having 1 argument\")\n",
    "        else:\n",
    "            print(\"No arguments passed\")\n"
   ]
  },
  {
   "cell_type": "code",
   "execution_count": 19,
   "id": "e2f83079-256e-4ace-941b-63d34fb0cbc8",
   "metadata": {},
   "outputs": [],
   "source": [
    "class Calculator:\n",
    "    def Sum(self, *args):\n",
    "        total = 0\n",
    "        for num in args:\n",
    "            total += num\n",
    "        return total"
   ]
  },
  {
   "cell_type": "code",
   "execution_count": 20,
   "id": "9ab6f4fd-9987-4ad7-874f-f385fee02e9b",
   "metadata": {},
   "outputs": [
    {
     "name": "stdout",
     "output_type": "stream",
     "text": [
      "10\n"
     ]
    }
   ],
   "source": [
    "calc = Calculator()\n",
    "print(calc.Sum(1, 2, 3, 4))"
   ]
  },
  {
   "cell_type": "code",
   "execution_count": 21,
   "id": "bf9b07e9-a951-4af3-9f58-e799c43eef63",
   "metadata": {},
   "outputs": [],
   "source": [
    "class Encapsulation:\n",
    "    def __init__(self):\n",
    "        self.originalValue = 10"
   ]
  },
  {
   "cell_type": "code",
   "execution_count": 32,
   "id": "350a3348-4fdd-4a3a-b03f-8b1ad333b9ac",
   "metadata": {},
   "outputs": [],
   "source": [
    "def Value(self):\n",
    "        return self.originalValue"
   ]
  },
  {
   "cell_type": "code",
   "execution_count": 34,
   "id": "238ff11d-b816-4ea3-9b22-c831f2e1f3c4",
   "metadata": {},
   "outputs": [],
   "source": [
    "def setValue(self, newValue):\n",
    "        self.originalValue = newValue"
   ]
  },
  {
   "cell_type": "code",
   "execution_count": null,
   "id": "57bcdd5c-590e-491e-9df4-52df9aed8374",
   "metadata": {},
   "outputs": [],
   "source": []
  }
 ],
 "metadata": {
  "kernelspec": {
   "display_name": "Python 3 (ipykernel)",
   "language": "python",
   "name": "python3"
  },
  "language_info": {
   "codemirror_mode": {
    "name": "ipython",
    "version": 3
   },
   "file_extension": ".py",
   "mimetype": "text/x-python",
   "name": "python",
   "nbconvert_exporter": "python",
   "pygments_lexer": "ipython3",
   "version": "3.11.7"
  }
 },
 "nbformat": 4,
 "nbformat_minor": 5
}
