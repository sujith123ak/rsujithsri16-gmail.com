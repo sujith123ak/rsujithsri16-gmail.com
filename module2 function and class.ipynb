{
 "cells": [
  {
   "cell_type": "code",
   "execution_count": 40,
   "id": "41efcc87-d858-4734-a3dc-c70ba7734e69",
   "metadata": {},
   "outputs": [],
   "source": [
    "def factor(n):\n",
    "    # Initialize the result to 1 (since factorial of 0 or 1 is 1)\n",
    "    result = 1"
   ]
  },
  {
   "cell_type": "code",
   "execution_count": 41,
   "id": "ee853e6e-5621-4b92-9295-b790cfb8997c",
   "metadata": {},
   "outputs": [
    {
     "name": "stdout",
     "output_type": "stream",
     "text": [
      "1\n",
      "2\n",
      "3\n",
      "4\n",
      "5\n"
     ]
    }
   ],
   "source": [
    "for i in range(1, 5 + 1):\n",
    "    print(i)"
   ]
  },
  {
   "cell_type": "code",
   "execution_count": 42,
   "id": "25c13af7-7eae-4662-a51e-c6b673cac4fd",
   "metadata": {},
   "outputs": [],
   "source": [
    "def check_string(input_string):\"sample\""
   ]
  },
  {
   "cell_type": "code",
   "execution_count": 43,
   "id": "b54ee0da-0a0c-46d0-9707-114da14a6a38",
   "metadata": {},
   "outputs": [
    {
     "name": "stdout",
     "output_type": "stream",
     "text": [
      "The string is containing the letter ‘s’\n"
     ]
    }
   ],
   "source": [
    "print(\"The string is containing the letter ‘s’\")"
   ]
  },
  {
   "cell_type": "code",
   "execution_count": 44,
   "id": "a1f3bcd5-1a75-4dd3-8de5-8d0f437f32a9",
   "metadata": {},
   "outputs": [
    {
     "name": "stdout",
     "output_type": "stream",
     "text": [
      "The string doesn’t contain the letter ‘s’\n"
     ]
    }
   ],
   "source": [
    "print(\"The string doesn’t contain the letter ‘s’\")\n"
   ]
  },
  {
   "cell_type": "code",
   "execution_count": 50,
   "id": "acb98fa8-c557-457c-8c46-0d319fcf3dec",
   "metadata": {},
   "outputs": [],
   "source": [
    "class sujith:\n",
    "    def fun1(self):\n",
    "        return \"Learning Python\""
   ]
  },
  {
   "cell_type": "code",
   "execution_count": 51,
   "id": "e72e58ce-764a-4c56-9d29-0191c6f252b7",
   "metadata": {},
   "outputs": [],
   "source": [
    "def message(self):\n",
    "    print(\"Hello, my name is\", self.sujith)"
   ]
  },
  {
   "cell_type": "code",
   "execution_count": 60,
   "id": "7feb3676-ef5f-4c96-a011-6847ec143959",
   "metadata": {},
   "outputs": [],
   "source": [
    "double_num = lambda x: x * 2\n"
   ]
  },
  {
   "cell_type": "code",
   "execution_count": 62,
   "id": "f352adac-46ee-40c8-95ce-8a491db46ead",
   "metadata": {},
   "outputs": [],
   "source": [
    "def is_palindrome(s):input(\"Enter a string: \")"
   ]
  },
  {
   "cell_type": "code",
   "execution_count": null,
   "id": "20348f4d-efc0-43ca-8af8-b8f4ccc4d84e",
   "metadata": {},
   "outputs": [],
   "source": [
    "if is_palindrome(\"madam\"):\n",
    "  print(\"The string is a palindrome\")"
   ]
  },
  {
   "cell_type": "code",
   "execution_count": null,
   "id": "13559f58-9019-4b98-abd0-6bd5d272b482",
   "metadata": {},
   "outputs": [],
   "source": [
    "else is_palindrome(\"Hello\"):\n",
    "    print(\"The string is not a palindrome\")"
   ]
  },
  {
   "cell_type": "code",
   "execution_count": null,
   "id": "6b8278a8-1ab8-44d3-877d-e55af8b1e81f",
   "metadata": {},
   "outputs": [],
   "source": []
  }
 ],
 "metadata": {
  "kernelspec": {
   "display_name": "Python 3 (ipykernel)",
   "language": "python",
   "name": "python3"
  },
  "language_info": {
   "codemirror_mode": {
    "name": "ipython",
    "version": 3
   },
   "file_extension": ".py",
   "mimetype": "text/x-python",
   "name": "python",
   "nbconvert_exporter": "python",
   "pygments_lexer": "ipython3",
   "version": "3.11.7"
  }
 },
 "nbformat": 4,
 "nbformat_minor": 5
}
