{
 "cells": [
  {
   "cell_type": "code",
   "execution_count": 18,
   "id": "0b7db130-c098-414a-90c3-19bf547a4e04",
   "metadata": {},
   "outputs": [],
   "source": [
    "# Assign values to a and b\n",
    "a = 10\n",
    "b = 20"
   ]
  },
  {
   "cell_type": "code",
   "execution_count": 8,
   "id": "95d426b5-4c9a-4f5d-a0f7-9f2e4b702bc2",
   "metadata": {},
   "outputs": [],
   "source": [
    "# Check if a is greater than b\n",
    "if a > b:\n",
    "    print(\"a is greater than b\")"
   ]
  },
  {
   "cell_type": "code",
   "execution_count": 10,
   "id": "1d5a9fb4-2697-4db3-b7e6-a2119169a568",
   "metadata": {},
   "outputs": [
    {
     "name": "stdout",
     "output_type": "stream",
     "text": [
      "b is greater than a\n",
      "\n"
     ]
    }
   ],
   "source": [
    " print(\"b is greater than a\\n\")"
   ]
  },
  {
   "cell_type": "code",
   "execution_count": 17,
   "id": "4826f53c-125d-4945-b740-2051ecb335ca",
   "metadata": {},
   "outputs": [],
   "source": [
    "if a == b:\n",
    "        print(\"a and b are equal\")\n"
   ]
  },
  {
   "cell_type": "code",
   "execution_count": null,
   "id": "921b9747-6ecb-4c31-8f60-970abc278c16",
   "metadata": {},
   "outputs": [],
   "source": []
  }
 ],
 "metadata": {
  "kernelspec": {
   "display_name": "Python 3 (ipykernel)",
   "language": "python",
   "name": "python3"
  },
  "language_info": {
   "codemirror_mode": {
    "name": "ipython",
    "version": 3
   },
   "file_extension": ".py",
   "mimetype": "text/x-python",
   "name": "python",
   "nbconvert_exporter": "python",
   "pygments_lexer": "ipython3",
   "version": "3.11.7"
  }
 },
 "nbformat": 4,
 "nbformat_minor": 5
}
