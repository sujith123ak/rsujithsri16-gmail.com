{
 "cells": [
  {
   "cell_type": "code",
   "execution_count": 1,
   "id": "63fb7060-b48b-488a-8674-b8e39b726d46",
   "metadata": {},
   "outputs": [],
   "source": [
    "import pandas as pd\n",
    "\n",
    "# Load the DataFrame from the CSV file\n",
    "churn = pd.read_csv('customer_churn.csv')"
   ]
  },
  {
   "cell_type": "code",
   "execution_count": 2,
   "id": "bbc41825-4910-4f6f-a4fb-063c48a003ae",
   "metadata": {},
   "outputs": [
    {
     "name": "stdout",
     "output_type": "stream",
     "text": [
      "    customerID  gender  SeniorCitizen Partner Dependents  tenure PhoneService  \\\n",
      "0   7590-VHVEG  Female              0     Yes         No       1           No   \n",
      "1   5575-GNVDE    Male              0      No         No      34          Yes   \n",
      "2   3668-QPYBK    Male              0      No         No       2          Yes   \n",
      "3   7795-CFOCW    Male              0      No         No      45           No   \n",
      "4   9237-HQITU  Female              0      No         No       2          Yes   \n",
      "..         ...     ...            ...     ...        ...     ...          ...   \n",
      "95  8637-XJIVR  Female              0      No         No      12          Yes   \n",
      "96  9803-FTJCG    Male              0     Yes        Yes      71          Yes   \n",
      "97  0278-YXOOG    Male              0      No         No       5          Yes   \n",
      "98  3212-KXOCR    Male              0      No         No      52          Yes   \n",
      "99  4598-XLKNJ  Female              1     Yes         No      25          Yes   \n",
      "\n",
      "       MultipleLines InternetService       OnlineSecurity  ...  \\\n",
      "0   No phone service             DSL                   No  ...   \n",
      "1                 No             DSL                  Yes  ...   \n",
      "2                 No             DSL                  Yes  ...   \n",
      "3   No phone service             DSL                  Yes  ...   \n",
      "4                 No     Fiber optic                   No  ...   \n",
      "..               ...             ...                  ...  ...   \n",
      "95               Yes     Fiber optic                  Yes  ...   \n",
      "96               Yes             DSL                  Yes  ...   \n",
      "97                No              No  No internet service  ...   \n",
      "98                No              No  No internet service  ...   \n",
      "99                No     Fiber optic                   No  ...   \n",
      "\n",
      "       DeviceProtection          TechSupport          StreamingTV  \\\n",
      "0                    No                   No                   No   \n",
      "1                   Yes                   No                   No   \n",
      "2                    No                   No                   No   \n",
      "3                   Yes                  Yes                   No   \n",
      "4                    No                   No                   No   \n",
      "..                  ...                  ...                  ...   \n",
      "95                   No                   No                   No   \n",
      "96                   No                  Yes                   No   \n",
      "97  No internet service  No internet service  No internet service   \n",
      "98  No internet service  No internet service  No internet service   \n",
      "99                  Yes                   No                  Yes   \n",
      "\n",
      "        StreamingMovies        Contract PaperlessBilling  \\\n",
      "0                    No  Month-to-month              Yes   \n",
      "1                    No        One year               No   \n",
      "2                    No  Month-to-month              Yes   \n",
      "3                    No        One year               No   \n",
      "4                    No  Month-to-month              Yes   \n",
      "..                  ...             ...              ...   \n",
      "95                   No  Month-to-month              Yes   \n",
      "96                   No        One year              Yes   \n",
      "97  No internet service  Month-to-month               No   \n",
      "98  No internet service        Two year               No   \n",
      "99                  Yes  Month-to-month              Yes   \n",
      "\n",
      "                PaymentMethod MonthlyCharges  TotalCharges Churn  \n",
      "0            Electronic check          29.85         29.85    No  \n",
      "1                Mailed check          56.95        1889.5    No  \n",
      "2                Mailed check          53.85        108.15   Yes  \n",
      "3   Bank transfer (automatic)          42.30       1840.75    No  \n",
      "4            Electronic check          70.70        151.65   Yes  \n",
      "..                        ...            ...           ...   ...  \n",
      "95           Electronic check          78.95        927.35   Yes  \n",
      "96    Credit card (automatic)          66.85        4748.7    No  \n",
      "97               Mailed check          21.05        113.85   Yes  \n",
      "98  Bank transfer (automatic)          21.00        1107.2    No  \n",
      "99           Electronic check          98.50        2514.5   Yes  \n",
      "\n",
      "[100 rows x 21 columns]\n"
     ]
    }
   ],
   "source": [
    "# Display the top 100 records\n",
    "top_100_records = churn.head(100)\n",
    "print(top_100_records)"
   ]
  },
  {
   "cell_type": "code",
   "execution_count": 3,
   "id": "936eeb56-b524-44ac-8767-485dd409897b",
   "metadata": {},
   "outputs": [
    {
     "name": "stdout",
     "output_type": "stream",
     "text": [
      "      customerID  gender  SeniorCitizen Partner Dependents  tenure  \\\n",
      "7033  9767-FFLEM    Male              0      No         No      38   \n",
      "7034  0639-TSIQW  Female              0      No         No      67   \n",
      "7035  8456-QDAVC    Male              0      No         No      19   \n",
      "7036  7750-EYXWZ  Female              0      No         No      12   \n",
      "7037  2569-WGERO  Female              0      No         No      72   \n",
      "7038  6840-RESVB    Male              0     Yes        Yes      24   \n",
      "7039  2234-XADUH  Female              0     Yes        Yes      72   \n",
      "7040  4801-JZAZL  Female              0     Yes        Yes      11   \n",
      "7041  8361-LTMKD    Male              1     Yes         No       4   \n",
      "7042  3186-AJIEK    Male              0      No         No      66   \n",
      "\n",
      "     PhoneService     MultipleLines InternetService       OnlineSecurity  ...  \\\n",
      "7033          Yes                No     Fiber optic                   No  ...   \n",
      "7034          Yes               Yes     Fiber optic                  Yes  ...   \n",
      "7035          Yes                No     Fiber optic                   No  ...   \n",
      "7036           No  No phone service             DSL                   No  ...   \n",
      "7037          Yes                No              No  No internet service  ...   \n",
      "7038          Yes               Yes             DSL                  Yes  ...   \n",
      "7039          Yes               Yes     Fiber optic                   No  ...   \n",
      "7040           No  No phone service             DSL                  Yes  ...   \n",
      "7041          Yes               Yes     Fiber optic                   No  ...   \n",
      "7042          Yes                No     Fiber optic                  Yes  ...   \n",
      "\n",
      "         DeviceProtection          TechSupport          StreamingTV  \\\n",
      "7033                   No                   No                   No   \n",
      "7034                  Yes                   No                  Yes   \n",
      "7035                   No                   No                  Yes   \n",
      "7036                  Yes                  Yes                  Yes   \n",
      "7037  No internet service  No internet service  No internet service   \n",
      "7038                  Yes                  Yes                  Yes   \n",
      "7039                  Yes                   No                  Yes   \n",
      "7040                   No                   No                   No   \n",
      "7041                   No                   No                   No   \n",
      "7042                  Yes                  Yes                  Yes   \n",
      "\n",
      "          StreamingMovies        Contract PaperlessBilling  \\\n",
      "7033                   No  Month-to-month              Yes   \n",
      "7034                   No  Month-to-month              Yes   \n",
      "7035                   No  Month-to-month              Yes   \n",
      "7036                  Yes        One year               No   \n",
      "7037  No internet service        Two year              Yes   \n",
      "7038                  Yes        One year              Yes   \n",
      "7039                  Yes        One year              Yes   \n",
      "7040                   No  Month-to-month              Yes   \n",
      "7041                   No  Month-to-month              Yes   \n",
      "7042                  Yes        Two year              Yes   \n",
      "\n",
      "                  PaymentMethod MonthlyCharges  TotalCharges Churn  \n",
      "7033    Credit card (automatic)          69.50       2625.25    No  \n",
      "7034    Credit card (automatic)         102.95       6886.25   Yes  \n",
      "7035  Bank transfer (automatic)          78.70        1495.1    No  \n",
      "7036           Electronic check          60.65         743.3    No  \n",
      "7037  Bank transfer (automatic)          21.15        1419.4    No  \n",
      "7038               Mailed check          84.80        1990.5    No  \n",
      "7039    Credit card (automatic)         103.20        7362.9    No  \n",
      "7040           Electronic check          29.60        346.45    No  \n",
      "7041               Mailed check          74.40         306.6   Yes  \n",
      "7042  Bank transfer (automatic)         105.65        6844.5    No  \n",
      "\n",
      "[10 rows x 21 columns]\n"
     ]
    }
   ],
   "source": [
    "# Display the last 10 records\n",
    "last_10_records = churn.tail(10)\n",
    "print(last_10_records)"
   ]
  },
  {
   "cell_type": "code",
   "execution_count": 4,
   "id": "f82c21a6-83ea-4efe-9369-c33ce21f95ca",
   "metadata": {},
   "outputs": [
    {
     "name": "stdout",
     "output_type": "stream",
     "text": [
      "      customerID gender  SeniorCitizen Partner Dependents  tenure  \\\n",
      "7042  3186-AJIEK   Male              0      No         No      66   \n",
      "\n",
      "     PhoneService MultipleLines InternetService OnlineSecurity  ...  \\\n",
      "7042          Yes            No     Fiber optic            Yes  ...   \n",
      "\n",
      "     DeviceProtection TechSupport StreamingTV StreamingMovies  Contract  \\\n",
      "7042              Yes         Yes         Yes             Yes  Two year   \n",
      "\n",
      "     PaperlessBilling              PaymentMethod MonthlyCharges  TotalCharges  \\\n",
      "7042              Yes  Bank transfer (automatic)         105.65        6844.5   \n",
      "\n",
      "     Churn  \n",
      "7042    No  \n",
      "\n",
      "[1 rows x 21 columns]\n"
     ]
    }
   ],
   "source": [
    "# Display the last record\n",
    "last_record = churn.tail(1)\n",
    "print(last_record)"
   ]
  },
  {
   "cell_type": "code",
   "execution_count": null,
   "id": "0d09860e-ca65-4968-baba-d51d0969a7f5",
   "metadata": {},
   "outputs": [],
   "source": []
  }
 ],
 "metadata": {
  "kernelspec": {
   "display_name": "Python 3 (ipykernel)",
   "language": "python",
   "name": "python3"
  },
  "language_info": {
   "codemirror_mode": {
    "name": "ipython",
    "version": 3
   },
   "file_extension": ".py",
   "mimetype": "text/x-python",
   "name": "python",
   "nbconvert_exporter": "python",
   "pygments_lexer": "ipython3",
   "version": "3.11.7"
  }
 },
 "nbformat": 4,
 "nbformat_minor": 5
}
