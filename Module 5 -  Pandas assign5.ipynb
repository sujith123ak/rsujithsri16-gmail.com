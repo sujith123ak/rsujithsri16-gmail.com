{
 "cells": [
  {
   "cell_type": "code",
   "execution_count": 1,
   "id": "2bd8af8f-0070-438f-946d-e255fcfc3173",
   "metadata": {},
   "outputs": [],
   "source": [
    "import pandas as pd\n",
    "\n",
    "# Load the DataFrame from the CSV file\n",
    "churn = pd.read_csv('customer_churn.csv')"
   ]
  },
  {
   "cell_type": "code",
   "execution_count": 2,
   "id": "294401ef-4f1a-408b-a320-897800ec0c71",
   "metadata": {},
   "outputs": [],
   "source": [
    "# Initialize the counter\n",
    "count = 0"
   ]
  },
  {
   "cell_type": "code",
   "execution_count": 3,
   "id": "25bb48ea-9843-443d-93a4-1f0d328628c8",
   "metadata": {},
   "outputs": [],
   "source": [
    "# Iterate through each row in the DataFrame\n",
    "for index, row in churn.iterrows():\n",
    "    # Check if the conditions are met\n",
    "    if row['TechSupport'] == 'Yes' and row['gender'] == 'Male' and row['SeniorCitizen'] == 1:\n",
    "        count += 1"
   ]
  },
  {
   "cell_type": "code",
   "execution_count": 4,
   "id": "4367eae7-4ca7-49db-b5a5-7bb4980c254a",
   "metadata": {},
   "outputs": [
    {
     "name": "stdout",
     "output_type": "stream",
     "text": [
      "Number of male senior citizens receiving tech support: 119\n"
     ]
    }
   ],
   "source": [
    "# Print the number of customers meeting the criteria\n",
    "print(\"Number of male senior citizens receiving tech support:\", count)"
   ]
  },
  {
   "cell_type": "code",
   "execution_count": null,
   "id": "a0094d5c-0447-4348-a0fd-8900d0f577f0",
   "metadata": {},
   "outputs": [],
   "source": []
  }
 ],
 "metadata": {
  "kernelspec": {
   "display_name": "Python 3 (ipykernel)",
   "language": "python",
   "name": "python3"
  },
  "language_info": {
   "codemirror_mode": {
    "name": "ipython",
    "version": 3
   },
   "file_extension": ".py",
   "mimetype": "text/x-python",
   "name": "python",
   "nbconvert_exporter": "python",
   "pygments_lexer": "ipython3",
   "version": "3.11.7"
  }
 },
 "nbformat": 4,
 "nbformat_minor": 5
}
