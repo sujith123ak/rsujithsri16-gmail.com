{
 "cells": [
  {
   "cell_type": "code",
   "execution_count": null,
   "id": "06914472-726f-4436-8a76-e9ccf426ca66",
   "metadata": {},
   "outputs": [],
   "source": [
    "# Take three inputs from the user\n",
    "num1 = int(input(\"Enter the first number: 25\"))\n",
    "num2 = int(input(\"Enter the second number:15 \"))\n",
    "num3 = int(input(\"Enter the third number: 10\"))\n"
   ]
  },
  {
   "cell_type": "code",
   "execution_count": null,
   "id": "e65dc4c8-1176-4ee5-945d-35f728c2ec2e",
   "metadata": {},
   "outputs": [],
   "source": [
    "# Use if-else conditions to find the greatest number\n",
    "if num1 >= num2 and num1 >= num3:\n",
    "    print(f\"The greatest number is: {num1}\")"
   ]
  },
  {
   "cell_type": "code",
   "execution_count": null,
   "id": "2ee8b67b-5f67-4fd3-9d65-39aad8b8287d",
   "metadata": {},
   "outputs": [],
   "source": [
    "elif num2 >= num1 and num2 >= num3:\n",
    "    print(f\"The greatest number is: {num2}\")"
   ]
  },
  {
   "cell_type": "code",
   "execution_count": null,
   "id": "81cbfa08-80f0-424d-898c-83d865631009",
   "metadata": {},
   "outputs": [],
   "source": [
    "else:\n",
    "    print(f\"The greatest number is: {num3}\")\n"
   ]
  },
  {
   "cell_type": "code",
   "execution_count": null,
   "id": "0fa0682e-9f5b-4e04-8c77-31f7093bd2ba",
   "metadata": {},
   "outputs": [],
   "source": []
  }
 ],
 "metadata": {
  "kernelspec": {
   "display_name": "Python 3 (ipykernel)",
   "language": "python",
   "name": "python3"
  },
  "language_info": {
   "codemirror_mode": {
    "name": "ipython",
    "version": 3
   },
   "file_extension": ".py",
   "mimetype": "text/x-python",
   "name": "python",
   "nbconvert_exporter": "python",
   "pygments_lexer": "ipython3",
   "version": "3.11.7"
  }
 },
 "nbformat": 4,
 "nbformat_minor": 5
}
