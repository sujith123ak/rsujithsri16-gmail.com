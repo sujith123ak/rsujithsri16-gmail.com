{
 "cells": [
  {
   "cell_type": "code",
   "execution_count": null,
   "id": "311da558-b334-4875-8248-a2c650ac6a87",
   "metadata": {},
   "outputs": [],
   "source": [
    "# Initialize the starting number\n",
    "current_number = 1"
   ]
  },
  {
   "cell_type": "code",
   "execution_count": null,
   "id": "b303a9d4-056c-4c25-ac0b-2d944dbe79f1",
   "metadata": {},
   "outputs": [],
   "source": [
    "# Set up the while loop to run as long as current_number is less than or equal to 10\n",
    "while current_number <= 10:"
   ]
  },
  {
   "cell_type": "code",
   "execution_count": null,
   "id": "df274161-9bfa-43c0-98fe-9d7ad5f5b854",
   "metadata": {},
   "outputs": [],
   "source": [
    "# Print the current number\n",
    "    print(current_number)"
   ]
  },
  {
   "cell_type": "code",
   "execution_count": null,
   "id": "8d3fd6d7-b3d0-4e11-b0ae-3993d0810590",
   "metadata": {},
   "outputs": [],
   "source": [
    " # Increment the number by 1\n",
    "    current_number += 1"
   ]
  }
 ],
 "metadata": {
  "kernelspec": {
   "display_name": "Python 3 (ipykernel)",
   "language": "python",
   "name": "python3"
  },
  "language_info": {
   "codemirror_mode": {
    "name": "ipython",
    "version": 3
   },
   "file_extension": ".py",
   "mimetype": "text/x-python",
   "name": "python",
   "nbconvert_exporter": "python",
   "pygments_lexer": "ipython3",
   "version": "3.11.7"
  }
 },
 "nbformat": 4,
 "nbformat_minor": 5
}
